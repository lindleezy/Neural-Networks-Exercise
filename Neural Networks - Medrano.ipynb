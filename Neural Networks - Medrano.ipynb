{
 "cells": [
  {
   "cell_type": "markdown",
   "metadata": {},
   "source": [
    "# Laboratory Exercise 3 - Neural Networks"
   ]
  },
  {
   "cell_type": "code",
   "execution_count": 1,
   "metadata": {
    "ExecuteTime": {
     "end_time": "2020-11-16T11:26:19.448170Z",
     "start_time": "2020-11-16T11:26:16.762676Z"
    }
   },
   "outputs": [],
   "source": [
    "##import the necessary libraries\n",
    "import numpy as np\n",
    "import pandas as pd\n",
    "import matplotlib.pyplot as plt\n",
    "import seaborn as sns\n",
    "from itertools import product\n",
    "sns.set_style('whitegrid')"
   ]
  },
  {
   "cell_type": "markdown",
   "metadata": {},
   "source": [
    "A neural network was created that solves the parity pattern using EBP method."
   ]
  },
  {
   "cell_type": "code",
   "execution_count": 2,
   "metadata": {
    "ExecuteTime": {
     "end_time": "2020-11-16T11:26:19.470113Z",
     "start_time": "2020-11-16T11:26:19.450162Z"
    }
   },
   "outputs": [],
   "source": [
    "class NeuralNet():\n",
    "    \n",
    "    def __init__(self, X, y, input_size=2, alpha=0.1, epochs=1000):\n",
    "        # input_size = number of input neurons\n",
    "        # output_size = number of output neuron\n",
    "        self.X = X.T\n",
    "        self.y = y.reshape(1, -1)\n",
    "        self.m = X.shape[0]\n",
    "        self.output_size = X.shape[1]\n",
    "        self.input_size = input_size\n",
    "        self.alpha = alpha\n",
    "        self.epochs = epochs\n",
    "        self.loss_vals = []\n",
    "        \n",
    "        np.random.seed(1)\n",
    "        self.weights = np.random.rand(self.input_size, self.output_size)\n",
    "        self.bias = np.random.rand(1, input_size)\n",
    "    \n",
    "    @staticmethod\n",
    "    def sigmoid(x):\n",
    "        return 1 / (1 + np.exp(-x))\n",
    "\n",
    "    # Forward propagation\n",
    "    def ForwardProp(self, X):\n",
    "        z1 = np.dot(self.weights, X)\n",
    "        a1 = self.sigmoid(z1)    \n",
    "        z2 = np.dot(self.bias, a1)\n",
    "        a2 = self.sigmoid(z2)\n",
    "        return z1, a1, z2, a2\n",
    "\n",
    "    # Backward propagation\n",
    "    def BackProp(self, z1, a1, z2, a2):\n",
    "        dz2 = a2 - self.y\n",
    "        dbias = np.dot(dz2, a1.T) / self.m\n",
    "        dz1 = np.dot(self.bias.T, dz2) * a1 * (1 - a1)\n",
    "        dweights = np.dot(dz1, self.X.T) / self.m\n",
    "        dweights = np.reshape(dweights, self.weights.shape)\n",
    "        dbias = np.reshape(dbias, self.bias.shape)\n",
    "        return dz1, dweights, dz2, dbias\n",
    "    \n",
    "    #trains the neural network\n",
    "    def train(self):\n",
    "        for _ in range(self.epochs):\n",
    "            z1, a1, z2, a2 = self.ForwardProp(self.X)\n",
    "            dz1, dweights, da2, dbias, = self.BackProp(z1, a1, z2, a2)\n",
    "            self.loss = -(1 / self.m) * np.sum(self.y * np.log(a2)+(1 - self.y) * np.log(1 - a2))\n",
    "            self.loss_vals.append(self.loss)\n",
    "            self.weights = self.weights - self.alpha * dweights\n",
    "            self.bias = self.bias - self.alpha * dbias\n",
    "    \n",
    "    #loss value\n",
    "    def loss(self):\n",
    "        return self.loss\n",
    "    \n",
    "    #plotting the loss value vs epoch\n",
    "    def loss_plot(self):\n",
    "        plt.plot(self.loss_vals)\n",
    "        plt.title('Loss value vs epochs')\n",
    "        plt.xlabel('Epochs')\n",
    "        plt.ylabel('Loss value')\n",
    "        plt.grid(True)\n",
    "        plt.show()\n",
    "            \n",
    "    #predicting the results\n",
    "    def predict(self, X_test):\n",
    "        results = []\n",
    "        for Xn in X_test:\n",
    "            Xn = Xn.T\n",
    "            _, _, _, a2 = self.ForwardProp(Xn)\n",
    "            if a2 >= 0.5:\n",
    "                results.append(1)\n",
    "            else:\n",
    "                results.append(0)\n",
    "        return np.array(results)"
   ]
  },
  {
   "cell_type": "markdown",
   "metadata": {},
   "source": [
    "## Testing the neural network on parity patterns (N=2)\n",
    "\n",
    "### Creating the data"
   ]
  },
  {
   "cell_type": "code",
   "execution_count": 3,
   "metadata": {
    "ExecuteTime": {
     "end_time": "2020-11-16T11:26:19.766315Z",
     "start_time": "2020-11-16T11:26:19.473100Z"
    }
   },
   "outputs": [
    {
     "data": {
      "image/png": "[encoded data removed]",
      "text/plain": [
       "<Figure size 450x300 with 1 Axes>"
      ]
     },
     "metadata": {},
     "output_type": "display_data"
    }
   ],
   "source": [
    "X = np.array(list(product(range(2), repeat=2))).reshape(-1,2)\n",
    "y = X.sum(axis=1) % 2\n",
    "\n",
    "X = np.array(list(product(range(2), repeat=2))).reshape(-1,2)\n",
    "y = X.sum(axis=1) % 2\n",
    "\n",
    "plt.figure(dpi=75)\n",
    "plt.scatter(X[X.sum(axis=1)%2 == 0][:, 0], X[X.sum(axis=1)%2 == 0][:, 1], c='C0', s=50, label='0')\n",
    "plt.scatter(X[X.sum(axis=1)%2 == 1][:, 0], X[X.sum(axis=1)%2 == 1][:, 1], c='C1', s=50, label='1')\n",
    "plt.xlabel('x axis')\n",
    "plt.ylabel('y axis')\n",
    "plt.legend(loc='best')\n",
    "plt.show()"
   ]
  },
  {
   "cell_type": "markdown",
   "metadata": {},
   "source": [
    "### Training the Neural Network"
   ]
  },
  {
   "cell_type": "code",
   "execution_count": 4,
   "metadata": {
    "ExecuteTime": {
     "end_time": "2020-11-16T11:26:20.495796Z",
     "start_time": "2020-11-16T11:26:19.770305Z"
    }
   },
   "outputs": [
    {
     "data": {
      "image/png": "[encoded data removed]",
      "text/plain": [
       "<Figure size 432x288 with 1 Axes>"
      ]
     },
     "metadata": {},
     "output_type": "display_data"
    }
   ],
   "source": [
    "parity2 = NeuralNet(X, y, input_size=3, alpha=1, epochs=10000)\n",
    "parity2.train()\n",
    "parity2.loss_plot()"
   ]
  },
  {
   "cell_type": "markdown",
   "metadata": {},
   "source": [
    "### Testing the neural network"
   ]
  },
  {
   "cell_type": "code",
   "execution_count": 5,
   "metadata": {
    "ExecuteTime": {
     "end_time": "2020-11-16T11:26:20.509725Z",
     "start_time": "2020-11-16T11:26:20.497756Z"
    }
   },
   "outputs": [
    {
     "name": "stdout",
     "output_type": "stream",
     "text": [
      "Test sample: [0 0]\n",
      "Prediction: 0\n",
      "\n",
      "\n",
      "Test sample: [0 1]\n",
      "Prediction: 1\n",
      "\n",
      "\n",
      "Test sample: [1 0]\n",
      "Prediction: 1\n",
      "\n",
      "\n",
      "Test sample: [1 1]\n",
      "Prediction: 0\n",
      "\n",
      "\n"
     ]
    }
   ],
   "source": [
    "X_test = np.array([[0, 0],\n",
    "                   [0, 1],\n",
    "                   [1, 0],\n",
    "                   [1, 1]])\n",
    "y_pred = parity2.predict(X_test)\n",
    "for i in range(len(X_test)):\n",
    "    print('Test sample: {}\\nPrediction: {}'.format(X_test[i], y_pred[i]))\n",
    "    if i != len(X_test):\n",
    "        print('\\n')"
   ]
  },
  {
   "cell_type": "markdown",
   "metadata": {},
   "source": [
    "### Evaluating performance of the neural network"
   ]
  },
  {
   "cell_type": "code",
   "execution_count": 6,
   "metadata": {
    "ExecuteTime": {
     "end_time": "2020-11-16T11:26:20.808926Z",
     "start_time": "2020-11-16T11:26:20.517707Z"
    }
   },
   "outputs": [
    {
     "name": "stdout",
     "output_type": "stream",
     "text": [
      "Confusion matrix:\n",
      "[[2 0]\n",
      " [0 2]]\n",
      "\n",
      "\n",
      "Classification report:\n",
      "              precision    recall  f1-score   support\n",
      "\n",
      "           0       1.00      1.00      1.00         2\n",
      "           1       1.00      1.00      1.00         2\n",
      "\n",
      "    accuracy                           1.00         4\n",
      "   macro avg       1.00      1.00      1.00         4\n",
      "weighted avg       1.00      1.00      1.00         4\n",
      "\n"
     ]
    }
   ],
   "source": [
    "from sklearn.metrics import confusion_matrix, classification_report\n",
    "print('Confusion matrix:\\n{}'.format(confusion_matrix(y, y_pred)))\n",
    "print('\\n')\n",
    "print('Classification report:\\n{}'.format(classification_report(y, y_pred)))"
   ]
  },
  {
   "cell_type": "markdown",
   "metadata": {},
   "source": [
    "## Testing the neural network on parity patterns (N=3)\n",
    "\n",
    "### Creating the data"
   ]
  },
  {
   "cell_type": "code",
   "execution_count": 7,
   "metadata": {
    "ExecuteTime": {
     "end_time": "2020-11-16T11:26:21.057854Z",
     "start_time": "2020-11-16T11:26:20.810922Z"
    }
   },
   "outputs": [
    {
     "data": {
      "image/png": "[encoded data removed]",
      "text/plain": [
       "<Figure size 600x400 with 1 Axes>"
      ]
     },
     "metadata": {},
     "output_type": "display_data"
    }
   ],
   "source": [
    "X = np.array(list(product(range(2), repeat=3))).reshape(-1,3)\n",
    "y = X.sum(axis=1) % 2\n",
    "\n",
    "X = np.array(list(product(range(2), repeat=3))).reshape(-1,3)\n",
    "y = X.sum(axis=1) % 2\n",
    "\n",
    "fig = plt.figure(dpi=100)\n",
    "ax = fig.add_subplot(111, projection='3d')\n",
    "ax.scatter(X[X.sum(axis=1)%2 == 0][:, 0], X[X.sum(axis=1)%2 == 0][:, 1], X[X.sum(axis=1)%2 == 0][:, 2], c='C0', label='0')\n",
    "ax.scatter(X[X.sum(axis=1)%2 == 1][:, 0], X[X.sum(axis=1)%2 == 1][:, 1], X[X.sum(axis=1)%2 == 1][:, 2], c='C1', label='1')\n",
    "ax.set_xlabel('x Axis')\n",
    "ax.set_ylabel('y Axis')\n",
    "ax.set_zlabel('Z Axis')\n",
    "plt.legend(loc='best')\n",
    "plt.show()"
   ]
  },
  {
   "cell_type": "markdown",
   "metadata": {},
   "source": [
    "### Training the neural network on the data"
   ]
  },
  {
   "cell_type": "code",
   "execution_count": 8,
   "metadata": {
    "ExecuteTime": {
     "end_time": "2020-11-16T11:26:21.785092Z",
     "start_time": "2020-11-16T11:26:21.060774Z"
    }
   },
   "outputs": [
    {
     "data": {
      "image/png": "[encoded data removed]",
      "text/plain": [
       "<Figure size 432x288 with 1 Axes>"
      ]
     },
     "metadata": {},
     "output_type": "display_data"
    }
   ],
   "source": [
    "parity3 = NeuralNet(X, y, input_size=4, alpha=1, epochs=10000)\n",
    "parity3.train()\n",
    "parity3.loss_plot()"
   ]
  },
  {
   "cell_type": "markdown",
   "metadata": {},
   "source": [
    "### Testing the neural network"
   ]
  },
  {
   "cell_type": "code",
   "execution_count": 9,
   "metadata": {
    "ExecuteTime": {
     "end_time": "2020-11-16T11:26:21.796064Z",
     "start_time": "2020-11-16T11:26:21.788087Z"
    }
   },
   "outputs": [
    {
     "name": "stdout",
     "output_type": "stream",
     "text": [
      "Test sample: [0 0 0]\n",
      "Prediction: 0\n",
      "\n",
      "\n",
      "Test sample: [0 0 1]\n",
      "Prediction: 1\n",
      "\n",
      "\n",
      "Test sample: [0 1 0]\n",
      "Prediction: 1\n",
      "\n",
      "\n",
      "Test sample: [0 1 1]\n",
      "Prediction: 0\n",
      "\n",
      "\n",
      "Test sample: [1 0 0]\n",
      "Prediction: 1\n",
      "\n",
      "\n",
      "Test sample: [1 0 1]\n",
      "Prediction: 0\n",
      "\n",
      "\n",
      "Test sample: [1 1 0]\n",
      "Prediction: 0\n",
      "\n",
      "\n",
      "Test sample: [1 1 1]\n",
      "Prediction: 1\n",
      "\n",
      "\n"
     ]
    }
   ],
   "source": [
    "X_test = np.array([[0, 0, 0],\n",
    "                   [0, 0, 1],\n",
    "                   [0, 1, 0],\n",
    "                   [0, 1, 1],\n",
    "                   [1, 0, 0],\n",
    "                   [1, 0, 1],\n",
    "                   [1, 1, 0],\n",
    "                   [1, 1, 1]])\n",
    "y_pred = parity3.predict(X_test)\n",
    "\n",
    "for i in range(len(X_test)):\n",
    "    print('Test sample: {}\\nPrediction: {}'.format(X_test[i], y_pred[i]))\n",
    "    if i != len(X_test):\n",
    "        print('\\n')"
   ]
  },
  {
   "cell_type": "markdown",
   "metadata": {},
   "source": [
    "### Evaluating performance of the neural network"
   ]
  },
  {
   "cell_type": "code",
   "execution_count": 10,
   "metadata": {
    "ExecuteTime": {
     "end_time": "2020-11-16T11:26:21.814027Z",
     "start_time": "2020-11-16T11:26:21.798059Z"
    }
   },
   "outputs": [
    {
     "name": "stdout",
     "output_type": "stream",
     "text": [
      "Confusion matrix:\n",
      "[[4 0]\n",
      " [0 4]]\n",
      "\n",
      "\n",
      "Classification report:\n",
      "              precision    recall  f1-score   support\n",
      "\n",
      "           0       1.00      1.00      1.00         4\n",
      "           1       1.00      1.00      1.00         4\n",
      "\n",
      "    accuracy                           1.00         8\n",
      "   macro avg       1.00      1.00      1.00         8\n",
      "weighted avg       1.00      1.00      1.00         8\n",
      "\n"
     ]
    }
   ],
   "source": [
    "print('Confusion matrix:\\n{}'.format(confusion_matrix(y, y_pred)))\n",
    "print('\\n')\n",
    "print('Classification report:\\n{}'.format(classification_report(y, y_pred)))"
   ]
  },
  {
   "cell_type": "markdown",
   "metadata": {},
   "source": [
    "## Testing the neural network on parity patterns (N=4)\n",
    "\n",
    "### Creating the data"
   ]
  },
  {
   "cell_type": "code",
   "execution_count": 11,
   "metadata": {
    "ExecuteTime": {
     "end_time": "2020-11-16T11:26:21.820998Z",
     "start_time": "2020-11-16T11:26:21.816010Z"
    }
   },
   "outputs": [],
   "source": [
    "X = np.array(list(product(range(2), repeat=4))).reshape(-1,4)\n",
    "y = X.sum(axis=1) % 2"
   ]
  },
  {
   "cell_type": "markdown",
   "metadata": {},
   "source": [
    "### Training the neural network on the data"
   ]
  },
  {
   "cell_type": "code",
   "execution_count": 12,
   "metadata": {
    "ExecuteTime": {
     "end_time": "2020-11-16T11:26:22.533132Z",
     "start_time": "2020-11-16T11:26:21.822992Z"
    }
   },
   "outputs": [
    {
     "data": {
      "image/png": "[encoded data removed]",
      "text/plain": [
       "<Figure size 432x288 with 1 Axes>"
      ]
     },
     "metadata": {},
     "output_type": "display_data"
    }
   ],
   "source": [
    "parity4 = NeuralNet(X, y, input_size=5, alpha=1, epochs=10000)\n",
    "parity4.train()\n",
    "parity4.loss_plot()"
   ]
  },
  {
   "cell_type": "markdown",
   "metadata": {},
   "source": [
    "### Testing the neural network"
   ]
  },
  {
   "cell_type": "code",
   "execution_count": 13,
   "metadata": {
    "ExecuteTime": {
     "end_time": "2020-11-16T11:26:22.597999Z",
     "start_time": "2020-11-16T11:26:22.535127Z"
    }
   },
   "outputs": [
    {
     "name": "stdout",
     "output_type": "stream",
     "text": [
      "Test sample: [0 0 0 0]\n",
      "Prediction: 0\n",
      "\n",
      "\n",
      "Test sample: [0 0 1 0]\n",
      "Prediction: 1\n",
      "\n",
      "\n",
      "Test sample: [0 1 0 0]\n",
      "Prediction: 1\n",
      "\n",
      "\n",
      "Test sample: [0 1 1 0]\n",
      "Prediction: 0\n",
      "\n",
      "\n",
      "Test sample: [1 0 0 0]\n",
      "Prediction: 1\n",
      "\n",
      "\n",
      "Test sample: [1 0 1 0]\n",
      "Prediction: 0\n",
      "\n",
      "\n",
      "Test sample: [1 1 0 0]\n",
      "Prediction: 0\n",
      "\n",
      "\n",
      "Test sample: [1 1 1 0]\n",
      "Prediction: 1\n",
      "\n",
      "\n"
     ]
    }
   ],
   "source": [
    "X_test = np.array([[0, 0, 0, 0],\n",
    "                   [0, 0, 0, 1],\n",
    "                   [0, 0, 1, 0],\n",
    "                   [0, 0, 1, 1],\n",
    "                   [0, 1, 0, 0],\n",
    "                   [0, 1, 0, 1],\n",
    "                   [0, 1, 1, 0],\n",
    "                   [0, 1, 1, 1],\n",
    "                   [1, 0, 0, 0],\n",
    "                   [1, 0, 0, 1],\n",
    "                   [1, 0, 1, 0],\n",
    "                   [1, 0, 1, 1],\n",
    "                   [1, 1, 0, 0],\n",
    "                   [1, 1, 0, 1],\n",
    "                   [1, 1, 1, 0],\n",
    "                   [1, 1, 1, 1]])\n",
    "y_pred = parity4.predict(X_test)\n",
    "\n",
    "for i in range(0, len(X_test), 2):\n",
    "    print('Test sample: {}\\nPrediction: {}'.format(X_test[i], y_pred[i]))\n",
    "    if i != len(X_test):\n",
    "        print('\\n')"
   ]
  },
  {
   "cell_type": "markdown",
   "metadata": {},
   "source": [
    "### Evaluating performance of the neural network"
   ]
  },
  {
   "cell_type": "code",
   "execution_count": 14,
   "metadata": {
    "ExecuteTime": {
     "end_time": "2020-11-16T11:26:22.624926Z",
     "start_time": "2020-11-16T11:26:22.599954Z"
    }
   },
   "outputs": [
    {
     "name": "stdout",
     "output_type": "stream",
     "text": [
      "Confusion matrix:\n",
      "[[8 0]\n",
      " [0 8]]\n",
      "\n",
      "\n",
      "Classification report:\n",
      "              precision    recall  f1-score   support\n",
      "\n",
      "           0       1.00      1.00      1.00         8\n",
      "           1       1.00      1.00      1.00         8\n",
      "\n",
      "    accuracy                           1.00        16\n",
      "   macro avg       1.00      1.00      1.00        16\n",
      "weighted avg       1.00      1.00      1.00        16\n",
      "\n"
     ]
    }
   ],
   "source": [
    "print('Confusion matrix:\\n{}'.format(confusion_matrix(y, y_pred)))\n",
    "print('\\n')\n",
    "print('Classification report:\\n{}'.format(classification_report(y, y_pred)))"
   ]
  },
  {
   "cell_type": "markdown",
   "metadata": {},
   "source": [
    "## Neural network on parity patterns (N=5)\n",
    "\n",
    "### Creating the data"
   ]
  },
  {
   "cell_type": "code",
   "execution_count": 15,
   "metadata": {
    "ExecuteTime": {
     "end_time": "2020-11-16T11:26:22.634861Z",
     "start_time": "2020-11-16T11:26:22.628878Z"
    }
   },
   "outputs": [],
   "source": [
    "X = np.array(list(product(range(2), repeat=5))).reshape(-1,5)\n",
    "y = X.sum(axis=1) % 2"
   ]
  },
  {
   "cell_type": "markdown",
   "metadata": {},
   "source": [
    "### Training the neural network on the data"
   ]
  },
  {
   "cell_type": "code",
   "execution_count": 16,
   "metadata": {
    "ExecuteTime": {
     "end_time": "2020-11-16T11:26:23.601961Z",
     "start_time": "2020-11-16T11:26:22.636856Z"
    }
   },
   "outputs": [
    {
     "data": {
      "image/png": "[encoded data removed]",
      "text/plain": [
       "<Figure size 432x288 with 1 Axes>"
      ]
     },
     "metadata": {},
     "output_type": "display_data"
    }
   ],
   "source": [
    "parity5 = NeuralNet(X, y, input_size=30, alpha=1, epochs=10000)\n",
    "parity5.train()\n",
    "parity5.loss_plot()"
   ]
  },
  {
   "cell_type": "markdown",
   "metadata": {},
   "source": [
    "### Testing the neural network"
   ]
  },
  {
   "cell_type": "code",
   "execution_count": 17,
   "metadata": {
    "ExecuteTime": {
     "end_time": "2020-11-16T11:26:23.625867Z",
     "start_time": "2020-11-16T11:26:23.603910Z"
    }
   },
   "outputs": [
    {
     "name": "stdout",
     "output_type": "stream",
     "text": [
      "Test sample: [0 0 0 0 0]\n",
      "Prediction: 0\n",
      "\n",
      "\n",
      "Test sample: [0 0 0 1 0]\n",
      "Prediction: 1\n",
      "\n",
      "\n",
      "Test sample: [0 0 1 0 0]\n",
      "Prediction: 1\n",
      "\n",
      "\n",
      "Test sample: [0 0 1 1 0]\n",
      "Prediction: 0\n",
      "\n",
      "\n",
      "Test sample: [0 1 0 0 0]\n",
      "Prediction: 1\n",
      "\n",
      "\n",
      "Test sample: [0 1 0 1 0]\n",
      "Prediction: 0\n",
      "\n",
      "\n",
      "Test sample: [0 1 1 0 0]\n",
      "Prediction: 0\n",
      "\n",
      "\n",
      "Test sample: [0 1 1 1 0]\n",
      "Prediction: 1\n",
      "\n",
      "\n",
      "Test sample: [1 0 0 0 0]\n",
      "Prediction: 1\n",
      "\n",
      "\n",
      "Test sample: [1 0 0 1 0]\n",
      "Prediction: 0\n",
      "\n",
      "\n",
      "Test sample: [1 0 1 0 0]\n",
      "Prediction: 0\n",
      "\n",
      "\n",
      "Test sample: [1 0 1 1 0]\n",
      "Prediction: 1\n",
      "\n",
      "\n",
      "Test sample: [1 1 0 0 0]\n",
      "Prediction: 0\n",
      "\n",
      "\n",
      "Test sample: [1 1 0 1 0]\n",
      "Prediction: 1\n",
      "\n",
      "\n",
      "Test sample: [1 1 1 0 0]\n",
      "Prediction: 1\n",
      "\n",
      "\n",
      "Test sample: [1 1 1 1 0]\n",
      "Prediction: 0\n",
      "\n",
      "\n"
     ]
    }
   ],
   "source": [
    "X_test = np.array([[0, 0, 0, 0, 0],\n",
    "              [0, 0, 0, 0, 1],\n",
    "              [0, 0, 0, 1, 0],\n",
    "              [0, 0, 0, 1, 1],\n",
    "              [0, 0, 1, 0, 0],\n",
    "              [0, 0, 1, 0, 1],\n",
    "              [0, 0, 1, 1, 0],\n",
    "              [0, 0, 1, 1, 1],\n",
    "              [0, 1, 0, 0, 0],\n",
    "              [0, 1, 0, 0, 1],\n",
    "              [0, 1, 0, 1, 0],\n",
    "              [0, 1, 0, 1, 1],\n",
    "              [0, 1, 1, 0, 0],\n",
    "              [0, 1, 1, 0, 1],\n",
    "              [0, 1, 1, 1, 0],\n",
    "              [0, 1, 1, 1, 1],\n",
    "              [1, 0, 0, 0, 0],\n",
    "              [1, 0, 0, 0, 1],\n",
    "              [1, 0, 0, 1, 0],\n",
    "              [1, 0, 0, 1, 1],\n",
    "              [1, 0, 1, 0, 0],\n",
    "              [1, 0, 1, 0, 1],\n",
    "              [1, 0, 1, 1, 0],\n",
    "              [1, 0, 1, 1, 1],\n",
    "              [1, 1, 0, 0, 0],\n",
    "              [1, 1, 0, 0, 1],\n",
    "              [1, 1, 0, 1, 0],\n",
    "              [1, 1, 0, 1, 1],\n",
    "              [1, 1, 1, 0, 0],\n",
    "              [1, 1, 1, 0, 1],\n",
    "              [1, 1, 1, 1, 0],\n",
    "              [1, 1, 1, 1, 1]])\n",
    "y_pred = parity5.predict(X_test)\n",
    "\n",
    "for i in range(0, len(X_test), 2):\n",
    "    print('Test sample: {}\\nPrediction: {}'.format(X_test[i], y_pred[i]))\n",
    "    if i != len(X_test):\n",
    "        print('\\n')"
   ]
  },
  {
   "cell_type": "markdown",
   "metadata": {},
   "source": [
    "### Evaluating performance of the neural network"
   ]
  },
  {
   "cell_type": "code",
   "execution_count": 18,
   "metadata": {
    "ExecuteTime": {
     "end_time": "2020-11-16T11:26:23.641847Z",
     "start_time": "2020-11-16T11:26:23.627844Z"
    }
   },
   "outputs": [
    {
     "name": "stdout",
     "output_type": "stream",
     "text": [
      "Confusion matrix:\n",
      "[[16  0]\n",
      " [ 0 16]]\n",
      "\n",
      "\n",
      "Classification report:\n",
      "              precision    recall  f1-score   support\n",
      "\n",
      "           0       1.00      1.00      1.00        16\n",
      "           1       1.00      1.00      1.00        16\n",
      "\n",
      "    accuracy                           1.00        32\n",
      "   macro avg       1.00      1.00      1.00        32\n",
      "weighted avg       1.00      1.00      1.00        32\n",
      "\n"
     ]
    }
   ],
   "source": [
    "print('Confusion matrix:\\n{}'.format(confusion_matrix(y, y_pred)))\n",
    "print('\\n')\n",
    "print('Classification report:\\n{}'.format(classification_report(y, y_pred)))"
   ]
  }
 ],
 "metadata": {
  "kernelspec": {
   "display_name": "Python 3",
   "language": "python",
   "name": "python3"
  },
  "language_info": {
   "codemirror_mode": {
    "name": "ipython",
    "version": 3
   },
   "file_extension": ".py",
   "mimetype": "text/x-python",
   "name": "python",
   "nbconvert_exporter": "python",
   "pygments_lexer": "ipython3",
   "version": "3.7.7"
  }
 },
 "nbformat": 4,
 "nbformat_minor": 4
}
